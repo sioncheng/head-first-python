{
 "cells": [
  {
   "cell_type": "code",
   "execution_count": 1,
   "metadata": {},
   "outputs": [
    {
     "name": "stdout",
     "output_type": "stream",
     "text": [
      "1:26.58\n",
      "1:26.58\n",
      "1:21.58\n"
     ]
    }
   ],
   "source": [
    "from swimclub import read_swim_data\n",
    "import os\n",
    "\n",
    "r = read_swim_data('Darius-13-100m-Fly.txt')\n",
    "print(r)\n",
    "\n",
    "dir = os.listdir('data')\n",
    "for d in dir:\n",
    "    print(read_swim_data('data/' + d))"
   ]
  }
 ],
 "metadata": {
  "kernelspec": {
   "display_name": "Python 3",
   "language": "python",
   "name": "python3"
  },
  "language_info": {
   "codemirror_mode": {
    "name": "ipython",
    "version": 3
   },
   "file_extension": ".py",
   "mimetype": "text/x-python",
   "name": "python",
   "nbconvert_exporter": "python",
   "pygments_lexer": "ipython3",
   "version": "3.12.4"
  }
 },
 "nbformat": 4,
 "nbformat_minor": 2
}
