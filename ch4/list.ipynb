{
 "cells": [
  {
   "cell_type": "code",
   "execution_count": 9,
   "metadata": {},
   "outputs": [
    {
     "name": "stdout",
     "output_type": "stream",
     "text": [
      "\n",
      "alice\n",
      "Alice, that was a great trick!\n",
      "\n",
      "david\n",
      "David, that was a great trick!\n",
      "\n",
      "carolina\n",
      "Carolina, that was a great trick!\n",
      "\n",
      "1\n",
      "2\n",
      "3\n",
      "4\n",
      "\n",
      "[1, 2, 3]\n",
      "\n",
      "[2, 4, 6, 8, 10]\n"
     ]
    }
   ],
   "source": [
    "magicans = ['alice', 'david', 'carolina']\n",
    "for magican in magicans:\n",
    "    print('')\n",
    "    print(magican)\n",
    "    print(f\"{magican.title()}, that was a great trick!\")\n",
    "\n",
    "print()\n",
    "for v in range(1, 5):\n",
    "    print(v)\n",
    "\n",
    "numbers = list(range(1, 4))\n",
    "print()\n",
    "print(numbers)\n",
    "\n",
    "event_numbers = list(range(2, 11, 2))\n",
    "print()\n",
    "print(event_numbers)"
   ]
  }
 ],
 "metadata": {
  "kernelspec": {
   "display_name": "Python 3",
   "language": "python",
   "name": "python3"
  },
  "language_info": {
   "codemirror_mode": {
    "name": "ipython",
    "version": 3
   },
   "file_extension": ".py",
   "mimetype": "text/x-python",
   "name": "python",
   "nbconvert_exporter": "python",
   "pygments_lexer": "ipython3",
   "version": "3.12.4"
  }
 },
 "nbformat": 4,
 "nbformat_minor": 2
}
