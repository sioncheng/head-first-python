{
 "cells": [
  {
   "cell_type": "code",
   "execution_count": 20,
   "metadata": {},
   "outputs": [
    {
     "name": "stdout",
     "output_type": "stream",
     "text": [
      "Darius 13 100m Fly\n",
      "[8795, 8107, 9096, 8322, 8795, 8830]\n",
      "1:26.58\n"
     ]
    }
   ],
   "source": [
    "import statistics\n",
    "\n",
    "\n",
    "fn = \"Darius-13-100m-Fly.txt\"\n",
    "# print(dir(fn))\n",
    "# print(fn.upper())\n",
    "# print(fn.lower())\n",
    "swimer, age, distance, stroke = fn.removesuffix('.txt').split('-')\n",
    "print(swimer, age, distance, stroke)\n",
    "\n",
    "with open(fn) as file:\n",
    "    lines = file.readlines()\n",
    "\n",
    "# print(lines[0].strip().split(','))\n",
    "times = lines[0].strip().split(',')\n",
    "\n",
    "converts = []\n",
    "for time in times:\n",
    "    minutes, rest = time.split(':')\n",
    "    seconds, hundredths = rest.split('.')\n",
    "    converts.append(int(minutes) * 60 * 100 + int(seconds) * 100 + int(hundredths))\n",
    "\n",
    "print(converts)\n",
    "\n",
    "average = statistics.mean(converts)\n",
    "rest, hundredths = str(round(average / 100.0, 2)).split('.')\n",
    "rest = int(rest)\n",
    "minutes = rest // 60\n",
    "seconds = rest - minutes * 60\n",
    "\n",
    "print(str(minutes) + \":\" + str(seconds) + \".\" + str(hundredths))\n"
   ]
  }
 ],
 "metadata": {
  "kernelspec": {
   "display_name": "Python 3",
   "language": "python",
   "name": "python3"
  },
  "language_info": {
   "codemirror_mode": {
    "name": "ipython",
    "version": 3
   },
   "file_extension": ".py",
   "mimetype": "text/x-python",
   "name": "python",
   "nbconvert_exporter": "python",
   "pygments_lexer": "ipython3",
   "version": "3.12.4"
  }
 },
 "nbformat": 4,
 "nbformat_minor": 2
}
