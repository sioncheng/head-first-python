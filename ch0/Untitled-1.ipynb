{
 "cells": [
  {
   "cell_type": "code",
   "execution_count": 1,
   "metadata": {},
   "outputs": [
    {
     "name": "stdout",
     "output_type": "stream",
     "text": [
      "# simple combine elements as a tuple\n",
      "(1, 2, 3)\n",
      "<class 'tuple'>\n",
      "# simple draw\n",
      "('King', 'of', 'Diamonds')\n",
      "(6, 'of', 'Diamonds')\n",
      "('Ace', 'of', 'Clubs')\n",
      "# range draw\n",
      "('King', 'of', 'Diamonds')\n",
      "(3, 'of', 'Clubs')\n",
      "(10, 'of', 'Spades')\n",
      "(6, 'of', 'Spades')\n",
      "(7, 'of', 'Clubs')\n"
     ]
    }
   ],
   "source": [
    "import random\n",
    "\n",
    "suits = [\"Clubs\", \"Spades\", \"Hearts\", \"Diamonds\"]\n",
    "faces = [\"Jack\", \"Queen\", \"King\", \"Ace\"]\n",
    "numbered = [2, 3, 4, 5, 6, 7, 8, 9, 10]\n",
    "\n",
    "def draw():\n",
    "    the_suit = random.choice(suits)\n",
    "    the_card = random.choice(faces + numbered)\n",
    "    return the_card, \"of\", the_suit\n",
    "\n",
    "print(\"# simple combine elements as a tuple\")\n",
    "a = 1, 2, 3\n",
    "print(a)\n",
    "# print(a.__class__)\n",
    "print(type(a))\n",
    "\n",
    "print(\"# simple draw\")\n",
    "\n",
    "print(draw())\n",
    "print(draw())\n",
    "print(draw())\n",
    "\n",
    "print(\"# range draw\")\n",
    "\n",
    "for _ in range(5):\n",
    "    print(draw())"
   ]
  }
 ],
 "metadata": {
  "kernelspec": {
   "display_name": "Python 3",
   "language": "python",
   "name": "python3"
  },
  "language_info": {
   "codemirror_mode": {
    "name": "ipython",
    "version": 3
   },
   "file_extension": ".py",
   "mimetype": "text/x-python",
   "name": "python",
   "nbconvert_exporter": "python",
   "pygments_lexer": "ipython3",
   "version": "3.12.4"
  }
 },
 "nbformat": 4,
 "nbformat_minor": 2
}
